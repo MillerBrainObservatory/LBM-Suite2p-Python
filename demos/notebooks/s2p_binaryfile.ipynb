{
 "cells": [
  {
   "cell_type": "markdown",
   "id": "20829081-202b-4133-9447-72da0a6c71a5",
   "metadata": {},
   "source": [
    "# Exploring Suite2p.io.BinaryFile "
   ]
  },
  {
   "cell_type": "code",
   "execution_count": 1,
   "id": "initial_id",
   "metadata": {
    "ExecuteTime": {
     "end_time": "2024-12-06T21:47:56.594560Z",
     "start_time": "2024-12-06T21:47:51.344966Z"
    },
    "execution": {
     "iopub.execute_input": "2025-01-15T22:33:45.757492Z",
     "iopub.status.busy": "2025-01-15T22:33:45.757293Z",
     "iopub.status.idle": "2025-01-15T22:33:45.776261Z",
     "shell.execute_reply": "2025-01-15T22:33:45.775727Z",
     "shell.execute_reply.started": "2025-01-15T22:33:45.757479Z"
    }
   },
   "outputs": [],
   "source": [
    "from pathlib import Path\n",
    "import suite2p\n",
    "import lbm_suite2p_python as lsp"
   ]
  },
  {
   "cell_type": "code",
   "execution_count": 4,
   "id": "77ba0e7d",
   "metadata": {
    "execution": {
     "iopub.execute_input": "2025-01-15T22:34:29.656560Z",
     "iopub.status.busy": "2025-01-15T22:34:29.656145Z",
     "iopub.status.idle": "2025-01-15T22:34:29.671364Z",
     "shell.execute_reply": "2025-01-15T22:34:29.670975Z",
     "shell.execute_reply.started": "2025-01-15T22:34:29.656527Z"
    }
   },
   "outputs": [
    {
     "data": {
      "text/plain": [
       "[WindowsPath('E:/datasets/high_resolution/zplanes/plane_1.tiff'),\n",
       " WindowsPath('E:/datasets/high_resolution/zplanes/plane_10.tiff'),\n",
       " WindowsPath('E:/datasets/high_resolution/zplanes/plane_11.tiff'),\n",
       " WindowsPath('E:/datasets/high_resolution/zplanes/plane_12.tiff'),\n",
       " WindowsPath('E:/datasets/high_resolution/zplanes/plane_13.tiff'),\n",
       " WindowsPath('E:/datasets/high_resolution/zplanes/plane_14.tiff'),\n",
       " WindowsPath('E:/datasets/high_resolution/zplanes/plane_15.tiff'),\n",
       " WindowsPath('E:/datasets/high_resolution/zplanes/plane_16.tiff'),\n",
       " WindowsPath('E:/datasets/high_resolution/zplanes/plane_17.tiff'),\n",
       " WindowsPath('E:/datasets/high_resolution/zplanes/plane_18.tiff'),\n",
       " WindowsPath('E:/datasets/high_resolution/zplanes/plane_19.tiff'),\n",
       " WindowsPath('E:/datasets/high_resolution/zplanes/plane_2.tiff'),\n",
       " WindowsPath('E:/datasets/high_resolution/zplanes/plane_20.tiff'),\n",
       " WindowsPath('E:/datasets/high_resolution/zplanes/plane_21.tiff'),\n",
       " WindowsPath('E:/datasets/high_resolution/zplanes/plane_22.tiff'),\n",
       " WindowsPath('E:/datasets/high_resolution/zplanes/plane_23.tiff'),\n",
       " WindowsPath('E:/datasets/high_resolution/zplanes/plane_24.tiff'),\n",
       " WindowsPath('E:/datasets/high_resolution/zplanes/plane_25.tiff'),\n",
       " WindowsPath('E:/datasets/high_resolution/zplanes/plane_26.tiff'),\n",
       " WindowsPath('E:/datasets/high_resolution/zplanes/plane_27.tiff'),\n",
       " WindowsPath('E:/datasets/high_resolution/zplanes/plane_28.tiff'),\n",
       " WindowsPath('E:/datasets/high_resolution/zplanes/plane_29.tiff'),\n",
       " WindowsPath('E:/datasets/high_resolution/zplanes/plane_3.tiff'),\n",
       " WindowsPath('E:/datasets/high_resolution/zplanes/plane_30.tiff'),\n",
       " WindowsPath('E:/datasets/high_resolution/zplanes/plane_4.tiff'),\n",
       " WindowsPath('E:/datasets/high_resolution/zplanes/plane_5.tiff'),\n",
       " WindowsPath('E:/datasets/high_resolution/zplanes/plane_6.tiff'),\n",
       " WindowsPath('E:/datasets/high_resolution/zplanes/plane_7.tiff'),\n",
       " WindowsPath('E:/datasets/high_resolution/zplanes/plane_8.tiff'),\n",
       " WindowsPath('E:/datasets/high_resolution/zplanes/plane_9.tiff')]"
      ]
     },
     "execution_count": 4,
     "metadata": {},
     "output_type": "execute_result"
    }
   ],
   "source": [
    "parent_path = Path(r\"E://datasets/single_hemisphere/zplanes\")\n",
    "save_path0 = parent_path / 'results_mbo'\n",
    "files = [x for x in parent_path.glob('*.tif*')]\n",
    "files"
   ]
  },
  {
   "cell_type": "code",
   "execution_count": 5,
   "id": "7b2520d6-8246-4f45-aa25-595a06623f5f",
   "metadata": {
    "execution": {
     "iopub.execute_input": "2025-01-15T22:34:31.811240Z",
     "iopub.status.busy": "2025-01-15T22:34:31.811053Z",
     "iopub.status.idle": "2025-01-15T22:34:31.829194Z",
     "shell.execute_reply": "2025-01-15T22:34:31.828803Z",
     "shell.execute_reply.started": "2025-01-15T22:34:31.811227Z"
    }
   },
   "outputs": [],
   "source": [
    "ops = suite2p.default_ops()\n",
    "metadata = lsp.get_metadata(files[0])\n",
    "new_ops = lsp.ops_from_metadata(ops, metadata)"
   ]
  },
  {
   "cell_type": "code",
   "execution_count": 15,
   "id": "2892b84f-0714-4570-95b7-19e43acc8b1e",
   "metadata": {
    "execution": {
     "iopub.execute_input": "2025-01-15T22:36:34.925746Z",
     "iopub.status.busy": "2025-01-15T22:36:34.925335Z",
     "iopub.status.idle": "2025-01-15T22:36:34.931006Z",
     "shell.execute_reply": "2025-01-15T22:36:34.929800Z",
     "shell.execute_reply.started": "2025-01-15T22:36:34.925714Z"
    }
   },
   "outputs": [],
   "source": [
    "Ly = metadata['pixel_resolution'][0]\n",
    "Lx = metadata['pixel_resolution'][1]"
   ]
  },
  {
   "cell_type": "code",
   "execution_count": 2,
   "id": "ae7ff064",
   "metadata": {
    "execution": {
     "iopub.execute_input": "2025-01-15T22:37:55.108775Z",
     "iopub.status.busy": "2025-01-15T22:37:55.108216Z",
     "iopub.status.idle": "2025-01-15T22:37:55.160818Z",
     "shell.execute_reply": "2025-01-15T22:37:55.160178Z",
     "shell.execute_reply.started": "2025-01-15T22:37:55.108730Z"
    }
   },
   "outputs": [
    {
     "ename": "NameError",
     "evalue": "name 'metadata' is not defined",
     "output_type": "error",
     "traceback": [
      "\u001b[1;31m---------------------------------------------------------------------------\u001b[0m",
      "\u001b[1;31mNameError\u001b[0m                                 Traceback (most recent call last)",
      "Cell \u001b[1;32mIn[2], line 1\u001b[0m\n\u001b[1;32m----> 1\u001b[0m f_input \u001b[38;5;241m=\u001b[39m suite2p\u001b[38;5;241m.\u001b[39mio\u001b[38;5;241m.\u001b[39mBinaryFile(Ly\u001b[38;5;241m=\u001b[39m\u001b[38;5;28mint\u001b[39m(\u001b[43mmetadata\u001b[49m[\u001b[38;5;124m'\u001b[39m\u001b[38;5;124mpixel_resolution\u001b[39m\u001b[38;5;124m'\u001b[39m][\u001b[38;5;241m0\u001b[39m]), Lx\u001b[38;5;241m=\u001b[39m\u001b[38;5;28mint\u001b[39m(metadata[\u001b[38;5;124m'\u001b[39m\u001b[38;5;124mpixel_resolution\u001b[39m\u001b[38;5;124m'\u001b[39m][\u001b[38;5;241m1\u001b[39m]), filename\u001b[38;5;241m=\u001b[39mfiles[\u001b[38;5;241m0\u001b[39m])\n",
      "\u001b[1;31mNameError\u001b[0m: name 'metadata' is not defined"
     ]
    }
   ],
   "source": [
    "f_input = suite2p.io.BinaryFile(Ly=int(metadata['pixel_resolution'][0]), Lx=int(metadata['pixel_resolution'][1]), filename=files[0])"
   ]
  },
  {
   "cell_type": "code",
   "execution_count": null,
   "id": "a108e250",
   "metadata": {},
   "outputs": [],
   "source": []
  }
 ],
 "metadata": {
  "kernelspec": {
   "display_name": "lsp",
   "language": "python",
   "name": "python3"
  },
  "language_info": {
   "codemirror_mode": {
    "name": "ipython",
    "version": 3
   },
   "file_extension": ".py",
   "mimetype": "text/x-python",
   "name": "python",
   "nbconvert_exporter": "python",
   "pygments_lexer": "ipython3",
   "version": "3.9.21"
  }
 },
 "nbformat": 4,
 "nbformat_minor": 5
}
