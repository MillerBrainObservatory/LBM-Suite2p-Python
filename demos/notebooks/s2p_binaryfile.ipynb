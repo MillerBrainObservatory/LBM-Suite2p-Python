{
 "cells": [
  {
   "cell_type": "markdown",
   "id": "20829081-202b-4133-9447-72da0a6c71a5",
   "metadata": {},
   "source": [
    "# Exploring Suite2p.io.BinaryFile "
   ]
  },
  {
   "cell_type": "code",
   "execution_count": 2,
   "id": "initial_id",
   "metadata": {
    "ExecuteTime": {
     "end_time": "2024-12-06T21:47:56.594560Z",
     "start_time": "2024-12-06T21:47:51.344966Z"
    },
    "execution": {
     "iopub.execute_input": "2025-01-15T22:33:45.757492Z",
     "iopub.status.busy": "2025-01-15T22:33:45.757293Z",
     "iopub.status.idle": "2025-01-15T22:33:45.776261Z",
     "shell.execute_reply": "2025-01-15T22:33:45.775727Z",
     "shell.execute_reply.started": "2025-01-15T22:33:45.757479Z"
    }
   },
   "outputs": [],
   "source": [
    "from pathlib import Path\n",
    "import suite2p\n",
    "from suite2p.io import (tiff, binary, tiff_to_binary)\n",
    "import lbm_suite2p_python as lsp"
   ]
  },
  {
   "cell_type": "code",
   "execution_count": 7,
   "id": "77ba0e7d",
   "metadata": {
    "execution": {
     "iopub.execute_input": "2025-01-15T22:34:29.656560Z",
     "iopub.status.busy": "2025-01-15T22:34:29.656145Z",
     "iopub.status.idle": "2025-01-15T22:34:29.671364Z",
     "shell.execute_reply": "2025-01-15T22:34:29.670975Z",
     "shell.execute_reply.started": "2025-01-15T22:34:29.656527Z"
    }
   },
   "outputs": [
    {
     "data": {
      "text/plain": [
       "[PosixPath('/home/flynn/caiman_data/relaxed_res/plane_1.tiff')]"
      ]
     },
     "execution_count": 7,
     "metadata": {},
     "output_type": "execute_result"
    }
   ],
   "source": [
    "parent_path = Path().home() / 'caiman_data' / 'relaxed_res'\n",
    "save_path0 = parent_path / 'results_mbo'\n",
    "files = [x for x in parent_path.glob('*.tif*')]\n",
    "files"
   ]
  },
  {
   "cell_type": "code",
   "execution_count": 8,
   "id": "7b2520d6-8246-4f45-aa25-595a06623f5f",
   "metadata": {
    "execution": {
     "iopub.execute_input": "2025-01-15T22:34:31.811240Z",
     "iopub.status.busy": "2025-01-15T22:34:31.811053Z",
     "iopub.status.idle": "2025-01-15T22:34:31.829194Z",
     "shell.execute_reply": "2025-01-15T22:34:31.828803Z",
     "shell.execute_reply.started": "2025-01-15T22:34:31.811227Z"
    }
   },
   "outputs": [],
   "source": [
    "ops = suite2p.default_ops()\n",
    "\n",
    "metadata = lsp.get_metadata(files[0])"
   ]
  },
  {
   "cell_type": "code",
   "execution_count": 11,
   "id": "1142731c-d5e2-4d28-9d66-8cf8914dab58",
   "metadata": {
    "execution": {
     "iopub.execute_input": "2025-01-15T22:35:06.627308Z",
     "iopub.status.busy": "2025-01-15T22:35:06.626878Z",
     "iopub.status.idle": "2025-01-15T22:35:06.634105Z",
     "shell.execute_reply": "2025-01-15T22:35:06.632221Z",
     "shell.execute_reply.started": "2025-01-15T22:35:06.627273Z"
    }
   },
   "outputs": [],
   "source": [
    "new_ops = lsp.ops_from_metadata(ops, metadata)"
   ]
  },
  {
   "cell_type": "code",
   "execution_count": 12,
   "id": "573afe73",
   "metadata": {
    "execution": {
     "iopub.execute_input": "2025-01-15T22:35:10.744034Z",
     "iopub.status.busy": "2025-01-15T22:35:10.743536Z",
     "iopub.status.idle": "2025-01-15T22:35:10.747703Z",
     "shell.execute_reply": "2025-01-15T22:35:10.746890Z",
     "shell.execute_reply.started": "2025-01-15T22:35:10.744004Z"
    }
   },
   "outputs": [],
   "source": [
    "ops['save_path0'] = [save_path0]\n",
    "ops['nplanes'] = 1\n",
    "ops['nchannels'] = 1\n",
    "ops['save_path'] = [save_path0]\n",
    "ops['fast_disk'] = []"
   ]
  },
  {
   "cell_type": "code",
   "execution_count": 15,
   "id": "2892b84f-0714-4570-95b7-19e43acc8b1e",
   "metadata": {
    "execution": {
     "iopub.execute_input": "2025-01-15T22:36:34.925746Z",
     "iopub.status.busy": "2025-01-15T22:36:34.925335Z",
     "iopub.status.idle": "2025-01-15T22:36:34.931006Z",
     "shell.execute_reply": "2025-01-15T22:36:34.929800Z",
     "shell.execute_reply.started": "2025-01-15T22:36:34.925714Z"
    }
   },
   "outputs": [],
   "source": [
    "Ly = metadata['pixel_resolution'][0]\n",
    "Lx = metadata['pixel_resolution'][1]"
   ]
  },
  {
   "cell_type": "code",
   "execution_count": 17,
   "id": "ae7ff064",
   "metadata": {
    "execution": {
     "iopub.execute_input": "2025-01-15T22:37:55.108775Z",
     "iopub.status.busy": "2025-01-15T22:37:55.108216Z",
     "iopub.status.idle": "2025-01-15T22:37:55.160818Z",
     "shell.execute_reply": "2025-01-15T22:37:55.160178Z",
     "shell.execute_reply.started": "2025-01-15T22:37:55.108730Z"
    }
   },
   "outputs": [
    {
     "ename": "TypeError",
     "evalue": "'float' object cannot be interpreted as an integer",
     "output_type": "error",
     "traceback": [
      "\u001b[0;31m---------------------------------------------------------------------------\u001b[0m",
      "\u001b[0;31mTypeError\u001b[0m                                 Traceback (most recent call last)",
      "Cell \u001b[0;32mIn[17], line 1\u001b[0m\n\u001b[0;32m----> 1\u001b[0m f_input \u001b[38;5;241m=\u001b[39m \u001b[43msuite2p\u001b[49m\u001b[38;5;241;43m.\u001b[39;49m\u001b[43mio\u001b[49m\u001b[38;5;241;43m.\u001b[39;49m\u001b[43mBinaryFile\u001b[49m\u001b[43m(\u001b[49m\n\u001b[1;32m      2\u001b[0m \u001b[43m    \u001b[49m\u001b[43mLy\u001b[49m\u001b[38;5;241;43m=\u001b[39;49m\u001b[43mmetadata\u001b[49m\u001b[43m[\u001b[49m\u001b[38;5;124;43m'\u001b[39;49m\u001b[38;5;124;43mpixel_resolution\u001b[39;49m\u001b[38;5;124;43m'\u001b[39;49m\u001b[43m]\u001b[49m\u001b[43m[\u001b[49m\u001b[38;5;241;43m0\u001b[39;49m\u001b[43m]\u001b[49m\u001b[43m,\u001b[49m\u001b[43m \u001b[49m\u001b[43mLx\u001b[49m\u001b[38;5;241;43m=\u001b[39;49m\u001b[43mmetadata\u001b[49m\u001b[43m[\u001b[49m\u001b[38;5;124;43m'\u001b[39;49m\u001b[38;5;124;43mpixel_resolution\u001b[39;49m\u001b[38;5;124;43m'\u001b[39;49m\u001b[43m]\u001b[49m\u001b[43m[\u001b[49m\u001b[38;5;241;43m1\u001b[39;49m\u001b[43m]\u001b[49m\u001b[43m,\u001b[49m\u001b[43m \u001b[49m\u001b[43mfilename\u001b[49m\u001b[38;5;241;43m=\u001b[39;49m\u001b[43mfiles\u001b[49m\u001b[43m[\u001b[49m\u001b[38;5;241;43m0\u001b[39;49m\u001b[43m]\u001b[49m\u001b[43m)\u001b[49m\n",
      "File \u001b[0;32m~/miniforge3/envs/lsp/lib/python3.10/site-packages/suite2p/io/binary.py:42\u001b[0m, in \u001b[0;36mBinaryFile.__init__\u001b[0;34m(self, Ly, Lx, filename, n_frames, dtype)\u001b[0m\n\u001b[1;32m     40\u001b[0m shape \u001b[38;5;241m=\u001b[39m (n_frames, \u001b[38;5;28mself\u001b[39m\u001b[38;5;241m.\u001b[39mLy, \u001b[38;5;28mself\u001b[39m\u001b[38;5;241m.\u001b[39mLx)\n\u001b[1;32m     41\u001b[0m mode \u001b[38;5;241m=\u001b[39m \u001b[38;5;124m\"\u001b[39m\u001b[38;5;124mw+\u001b[39m\u001b[38;5;124m\"\u001b[39m \u001b[38;5;28;01mif\u001b[39;00m write \u001b[38;5;28;01melse\u001b[39;00m \u001b[38;5;124m\"\u001b[39m\u001b[38;5;124mr+\u001b[39m\u001b[38;5;124m\"\u001b[39m\n\u001b[0;32m---> 42\u001b[0m \u001b[38;5;28mself\u001b[39m\u001b[38;5;241m.\u001b[39mfile \u001b[38;5;241m=\u001b[39m \u001b[43mnp\u001b[49m\u001b[38;5;241;43m.\u001b[39;49m\u001b[43mmemmap\u001b[49m\u001b[43m(\u001b[49m\u001b[38;5;28;43mself\u001b[39;49m\u001b[38;5;241;43m.\u001b[39;49m\u001b[43mfilename\u001b[49m\u001b[43m,\u001b[49m\u001b[43m \u001b[49m\u001b[43mmode\u001b[49m\u001b[38;5;241;43m=\u001b[39;49m\u001b[43mmode\u001b[49m\u001b[43m,\u001b[49m\u001b[43m \u001b[49m\u001b[43mdtype\u001b[49m\u001b[38;5;241;43m=\u001b[39;49m\u001b[38;5;28;43mself\u001b[39;49m\u001b[38;5;241;43m.\u001b[39;49m\u001b[43mdtype\u001b[49m\u001b[43m,\u001b[49m\u001b[43m \u001b[49m\u001b[43mshape\u001b[49m\u001b[38;5;241;43m=\u001b[39;49m\u001b[43mshape\u001b[49m\u001b[43m)\u001b[49m\n\u001b[1;32m     43\u001b[0m \u001b[38;5;28mself\u001b[39m\u001b[38;5;241m.\u001b[39m_index \u001b[38;5;241m=\u001b[39m \u001b[38;5;241m0\u001b[39m\n\u001b[1;32m     44\u001b[0m \u001b[38;5;28mself\u001b[39m\u001b[38;5;241m.\u001b[39m_can_read \u001b[38;5;241m=\u001b[39m \u001b[38;5;28;01mTrue\u001b[39;00m\n",
      "File \u001b[0;32m~/miniforge3/envs/lsp/lib/python3.10/site-packages/numpy/_core/memmap.py:281\u001b[0m, in \u001b[0;36mmemmap.__new__\u001b[0;34m(subtype, filename, dtype, mode, offset, shape, order)\u001b[0m\n\u001b[1;32m    278\u001b[0m array_offset \u001b[38;5;241m=\u001b[39m offset \u001b[38;5;241m-\u001b[39m start\n\u001b[1;32m    279\u001b[0m mm \u001b[38;5;241m=\u001b[39m mmap\u001b[38;5;241m.\u001b[39mmmap(fid\u001b[38;5;241m.\u001b[39mfileno(), \u001b[38;5;28mbytes\u001b[39m, access\u001b[38;5;241m=\u001b[39macc, offset\u001b[38;5;241m=\u001b[39mstart)\n\u001b[0;32m--> 281\u001b[0m \u001b[38;5;28mself\u001b[39m \u001b[38;5;241m=\u001b[39m \u001b[43mndarray\u001b[49m\u001b[38;5;241;43m.\u001b[39;49m\u001b[38;5;21;43m__new__\u001b[39;49m\u001b[43m(\u001b[49m\u001b[43msubtype\u001b[49m\u001b[43m,\u001b[49m\u001b[43m \u001b[49m\u001b[43mshape\u001b[49m\u001b[43m,\u001b[49m\u001b[43m \u001b[49m\u001b[43mdtype\u001b[49m\u001b[38;5;241;43m=\u001b[39;49m\u001b[43mdescr\u001b[49m\u001b[43m,\u001b[49m\u001b[43m \u001b[49m\u001b[43mbuffer\u001b[49m\u001b[38;5;241;43m=\u001b[39;49m\u001b[43mmm\u001b[49m\u001b[43m,\u001b[49m\n\u001b[1;32m    282\u001b[0m \u001b[43m                       \u001b[49m\u001b[43moffset\u001b[49m\u001b[38;5;241;43m=\u001b[39;49m\u001b[43marray_offset\u001b[49m\u001b[43m,\u001b[49m\u001b[43m \u001b[49m\u001b[43morder\u001b[49m\u001b[38;5;241;43m=\u001b[39;49m\u001b[43morder\u001b[49m\u001b[43m)\u001b[49m\n\u001b[1;32m    283\u001b[0m \u001b[38;5;28mself\u001b[39m\u001b[38;5;241m.\u001b[39m_mmap \u001b[38;5;241m=\u001b[39m mm\n\u001b[1;32m    284\u001b[0m \u001b[38;5;28mself\u001b[39m\u001b[38;5;241m.\u001b[39moffset \u001b[38;5;241m=\u001b[39m offset\n",
      "\u001b[0;31mTypeError\u001b[0m: 'float' object cannot be interpreted as an integer"
     ]
    }
   ],
   "source": [
    "f_input = suite2p.io.BinaryFile(\n",
    "    Ly=metadata['pixel_resolution'][0], Lx=metadata['pixel_resolution'][1], filename=files[0])"
   ]
  },
  {
   "cell_type": "code",
   "execution_count": null,
   "id": "a108e250",
   "metadata": {},
   "outputs": [],
   "source": []
  }
 ],
 "metadata": {
  "kernelspec": {
   "display_name": "Python 3 (ipykernel)",
   "language": "python",
   "name": "python3"
  },
  "language_info": {
   "codemirror_mode": {
    "name": "ipython",
    "version": 3
   },
   "file_extension": ".py",
   "mimetype": "text/x-python",
   "name": "python",
   "nbconvert_exporter": "python",
   "pygments_lexer": "ipython3",
   "version": "3.10.16"
  }
 },
 "nbformat": 4,
 "nbformat_minor": 5
}
