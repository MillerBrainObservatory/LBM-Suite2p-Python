{
 "cells": [
  {
   "cell_type": "code",
   "execution_count": 2,
   "metadata": {},
   "outputs": [
    {
     "name": "stderr",
     "output_type": "stream",
     "text": [
      "/home/mbo/miniconda3/envs/suite2p/lib/python3.9/site-packages/numba/np/ufunc/parallel.py:371: NumbaWarning: The TBB threading layer requires TBB version 2021 update 6 or later i.e., TBB_INTERFACE_VERSION >= 12060. Found TBB_INTERFACE_VERSION = 12050. The TBB threading layer is disabled.\n",
      "  warnings.warn(problem)\n"
     ]
    }
   ],
   "source": [
    "from pathlib import Path\n",
    "import numpy as np\n",
    "import suite2p"
   ]
  },
  {
   "cell_type": "code",
   "execution_count": 9,
   "metadata": {},
   "outputs": [
    {
     "data": {
      "text/plain": [
       "[PosixPath('/home/mbo/caiman_data/demo_data.tif')]"
      ]
     },
     "execution_count": 9,
     "metadata": {},
     "output_type": "execute_result"
    }
   ],
   "source": [
    "parent_path = Path().home() / 'caiman_data'\n",
    "save_path0 = Path().home() / 'caiman_data' / 'suite2p'\n",
    "save_path0.mkdir(exist_ok=True)\n",
    "\n",
    "files = [x for x in parent_path.glob('*.tif')]\n",
    "files"
   ]
  },
  {
   "cell_type": "code",
   "execution_count": 6,
   "metadata": {},
   "outputs": [
    {
     "data": {
      "text/plain": [
       "{'data_path': ['/home/mbo/caiman_data'],\n",
       " 'save_path0': '/home/mbo/caiman_data/suite2p',\n",
       " 'tiff_list': ['demo_data.tif']}"
      ]
     },
     "execution_count": 6,
     "metadata": {},
     "output_type": "execute_result"
    }
   ],
   "source": [
    "save_path = parent_path / 'results'\n",
    "db = {\n",
    "    'data_path': [str(parent_path)],\n",
    "    'save_path0': str(save_path0),\n",
    "    'tiff_list': ['demo_data.tif'],\n",
    "}\n",
    "db"
   ]
  },
  {
   "cell_type": "markdown",
   "metadata": {},
   "source": [
    "## LBM params"
   ]
  },
  {
   "cell_type": "code",
   "execution_count": 7,
   "metadata": {},
   "outputs": [],
   "source": [
    "ops = suite2p.default_ops()\n",
    "ops['tau'] = 1.0\n",
    "ops['fs'] = 8.6\n",
    "ops['max_overlap'] = 0.9\n",
    "ops['high_pass'] = 10\n",
    "ops['spatial_hp_detect'] = 25\n",
    "ops['smooth_sigma'] = 2\n",
    "ops['smooth_sigma_time'] = 2\n",
    "ops['keep_movie_raw'] = True\n",
    "ops['two_step_registration'] = True\n",
    "ops['do_bidiphase'] = True\n",
    "ops['pad_fft'] = True\n",
    "ops['do_registration'] = 1\n",
    "ops['spatial_taper']=5"
   ]
  },
  {
   "cell_type": "code",
   "execution_count": 11,
   "metadata": {},
   "outputs": [],
   "source": [
    "np.save(save_path0 / 'ops.npy', ops)\n",
    "np.save(save_path0 / 'db.npy', db)"
   ]
  },
  {
   "cell_type": "code",
   "execution_count": null,
   "metadata": {},
   "outputs": [],
   "source": [
    "output_ops = suite2p.run_s2p(ops=ops, db=db)"
   ]
  },
  {
   "cell_type": "markdown",
   "metadata": {},
   "source": [
    "## Default params"
   ]
  },
  {
   "cell_type": "code",
   "execution_count": 12,
   "metadata": {},
   "outputs": [],
   "source": [
    "defaults = suite2p.default_ops()\n",
    "np.save(save_path0 / 'defaults.npy', defaults)"
   ]
  },
  {
   "cell_type": "markdown",
   "metadata": {},
   "source": [
    "## 1p params"
   ]
  },
  {
   "cell_type": "code",
   "execution_count": 13,
   "metadata": {},
   "outputs": [],
   "source": [
    "ops = suite2p.default_ops()\n",
    "\n",
    "ops['1Preg'] = True\n",
    "ops['smooth_sigma'] = 6\n",
    "ops['high_pass'] = 6\n",
    "ops['sparse_mode'] = True\n",
    "ops['maxregshiftNR'] = 8\n",
    "\n",
    "np.save(save_path0 / '1p_ops.npy', ops)"
   ]
  },
  {
   "cell_type": "markdown",
   "metadata": {},
   "source": [
    "## Dendridic params"
   ]
  },
  {
   "cell_type": "code",
   "execution_count": 14,
   "metadata": {},
   "outputs": [],
   "source": [
    "ops = suite2p.default_ops()\n",
    "\n",
    "ops['connected'] = True\n",
    "ops['allow_overlap'] = True\n",
    "ops['max_overlap'] = 1.0\n",
    "\n",
    "np.save(save_path0 / 'ops_dendrite.npy', ops)"
   ]
  }
 ],
 "metadata": {
  "kernelspec": {
   "display_name": "suite2p",
   "language": "python",
   "name": "python3"
  },
  "language_info": {
   "codemirror_mode": {
    "name": "ipython",
    "version": 3
   },
   "file_extension": ".py",
   "mimetype": "text/x-python",
   "name": "python",
   "nbconvert_exporter": "python",
   "pygments_lexer": "ipython3",
   "version": "3.9.20"
  }
 },
 "nbformat": 4,
 "nbformat_minor": 2
}
