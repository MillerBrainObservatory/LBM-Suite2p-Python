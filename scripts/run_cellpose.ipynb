{
 "cells": [
  {
   "cell_type": "code",
   "execution_count": 1,
   "id": "3bd98edc-469b-4e98-9526-60d0dd885815",
   "metadata": {
    "execution": {
     "iopub.execute_input": "2025-02-14T20:56:36.261224Z",
     "iopub.status.busy": "2025-02-14T20:56:36.258191Z",
     "iopub.status.idle": "2025-02-14T20:56:36.563776Z",
     "shell.execute_reply": "2025-02-14T20:56:36.563776Z",
     "shell.execute_reply.started": "2025-02-14T20:56:36.261224Z"
    }
   },
   "outputs": [],
   "source": [
    "import numpy as np\n",
    "from pathlib import Path\n",
    "from cellpose import models\n",
    "from cellpose.io import imread"
   ]
  },
  {
   "cell_type": "code",
   "execution_count": 4,
   "id": "f154298c",
   "metadata": {},
   "outputs": [
    {
     "data": {
      "text/plain": [
       "[WindowsPath('D:/W2_DATA/kbarber/2025-01-30/mk303/green/assembled/plane_1.tiff'),\n",
       " WindowsPath('D:/W2_DATA/kbarber/2025-01-30/mk303/green/assembled/plane_10.tiff'),\n",
       " WindowsPath('D:/W2_DATA/kbarber/2025-01-30/mk303/green/assembled/plane_11.tiff'),\n",
       " WindowsPath('D:/W2_DATA/kbarber/2025-01-30/mk303/green/assembled/plane_12.tiff'),\n",
       " WindowsPath('D:/W2_DATA/kbarber/2025-01-30/mk303/green/assembled/plane_13.tiff'),\n",
       " WindowsPath('D:/W2_DATA/kbarber/2025-01-30/mk303/green/assembled/plane_14.tiff'),\n",
       " WindowsPath('D:/W2_DATA/kbarber/2025-01-30/mk303/green/assembled/plane_2.tiff'),\n",
       " WindowsPath('D:/W2_DATA/kbarber/2025-01-30/mk303/green/assembled/plane_3.tiff'),\n",
       " WindowsPath('D:/W2_DATA/kbarber/2025-01-30/mk303/green/assembled/plane_4.tiff'),\n",
       " WindowsPath('D:/W2_DATA/kbarber/2025-01-30/mk303/green/assembled/plane_5.tiff'),\n",
       " WindowsPath('D:/W2_DATA/kbarber/2025-01-30/mk303/green/assembled/plane_6.tiff'),\n",
       " WindowsPath('D:/W2_DATA/kbarber/2025-01-30/mk303/green/assembled/plane_7.tiff'),\n",
       " WindowsPath('D:/W2_DATA/kbarber/2025-01-30/mk303/green/assembled/plane_8.tiff'),\n",
       " WindowsPath('D:/W2_DATA/kbarber/2025-01-30/mk303/green/assembled/plane_9.tiff')]"
      ]
     },
     "execution_count": 4,
     "metadata": {},
     "output_type": "execute_result"
    }
   ],
   "source": [
    "fpath = Path(r\"D:\\W2_DATA\\kbarber\\2025-01-30\\mk303\\green\\assembled\")\n",
    "files = [x for x in fpath.glob(\"*.tif*\")]\n",
    "files.sort()\n",
    "files"
   ]
  },
  {
   "cell_type": "code",
   "execution_count": null,
   "id": "867ce2c5-5c2f-4035-b8dc-db8af07568af",
   "metadata": {},
   "outputs": [],
   "source": [
    "# model_type='cyto' or model_type='nuclei'\n",
    "model = models.Cellpose(gpu=False, model_type='cyto')\n",
    "\n",
    "output_path = Path(r\"D:\\W2_DATA\\kbarber\\2025-01-30\\mk303\\green\\cellpose\")\n",
    "imgs = imread(files)\n",
    "imgs.shape\n",
    "\n",
    "masks, flows, styles, diams = model.eval(imgs, diameter=None, channels=[0,0], flow_threshold=0.4, do_3D=False)\n",
    "mask_out = output_path / \"mask.npy\"\n",
    "styles_out = output_path / \"styles.npy\"\n",
    "flows_out = output_path / \"flows.npy\"\n",
    "diams_out = output_path / \"diams.npy\"\n",
    "np.save(mask_out, masks)\n",
    "np.save(flows_out, flows)\n",
    "np.save(styles_out, styles)\n",
    "np.save(diams_out, diams)"
   ]
  }
 ],
 "metadata": {
  "kernelspec": {
   "display_name": "lsp",
   "language": "python",
   "name": "python3"
  },
  "language_info": {
   "codemirror_mode": {
    "name": "ipython",
    "version": 3
   },
   "file_extension": ".py",
   "mimetype": "text/x-python",
   "name": "python",
   "nbconvert_exporter": "python",
   "pygments_lexer": "ipython3",
   "version": "3.9.21"
  }
 },
 "nbformat": 4,
 "nbformat_minor": 5
}
